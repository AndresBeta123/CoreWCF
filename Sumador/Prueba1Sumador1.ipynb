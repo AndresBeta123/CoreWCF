{
  "nbformat": 4,
  "nbformat_minor": 0,
  "metadata": {
    "colab": {
      "provenance": [],
      "authorship_tag": "ABX9TyPonCwApjfU/L4aLcFUWPi4",
      "include_colab_link": true
    },
    "kernelspec": {
      "name": "python3",
      "display_name": "Python 3"
    },
    "language_info": {
      "name": "python"
    }
  },
  "cells": [
    {
      "cell_type": "markdown",
      "metadata": {
        "id": "view-in-github",
        "colab_type": "text"
      },
      "source": [
        "<a href=\"https://colab.research.google.com/github/AndresBeta123/CoreWCF/blob/main/Sumador/Prueba1Sumador1.ipynb\" target=\"_parent\"><img src=\"https://colab.research.google.com/assets/colab-badge.svg\" alt=\"Open In Colab\"/></a>"
      ]
    },
    {
      "cell_type": "code",
      "execution_count": null,
      "metadata": {
        "colab": {
          "base_uri": "https://localhost:8080/"
        },
        "id": "20Zaf2DEH-bR",
        "outputId": "d5d2cc88-4e85-4c9a-cb2f-f0f4f5154519"
      },
      "outputs": [
        {
          "output_type": "stream",
          "name": "stdout",
          "text": [
            "2.8.2\n"
          ]
        }
      ],
      "source": [
        "# TensorFlow y tf.keras\n",
        "import tensorflow as tf\n",
        "from tensorflow import keras\n",
        "import numpy as np\n",
        "import pandas as pd\n",
        "import random\n",
        "\n",
        "# Librerias de ayuda\n",
        "import numpy as np\n",
        "import matplotlib.pyplot as plt\n",
        "\n",
        "print(tf.__version__)"
      ]
    },
    {
      "cell_type": "markdown",
      "source": [
        "Creando datos"
      ],
      "metadata": {
        "id": "hb7GaCYYIEiw"
      }
    },
    {
      "cell_type": "code",
      "source": [
        "A = []\n",
        "S = []\n",
        "\n",
        "for i in range(30000):\n",
        "  x = random.randint(0, 200)\n",
        "  y = random.randint(0, 200)\n",
        "  c = x+y\n",
        "  x = [int(i) for i in str(bin(x))[2:]]\n",
        "  x = [0 for i in range(8-len(x))]+x\n",
        "  y = [int(i) for i in str(bin(y))[2:]]\n",
        "  y = [0 for i in range(8-len(y))]+y\n",
        "\n",
        "  c = [int(i) for i in str(bin(c))[2:]]\n",
        "  c = [0 for i in range(9-len(c))]+c\n",
        "  A.append([x,y])\n",
        "  S.append(c)\n",
        "A = np.array(A)\n",
        "S = np.array(S)"
      ],
      "metadata": {
        "id": "9ur6cJl9IGGg"
      },
      "execution_count": null,
      "outputs": []
    },
    {
      "cell_type": "code",
      "source": [
        "activ = 'elu'\n",
        "model = keras.Sequential([\n",
        "        keras.layers.Flatten(input_shape=(2, 8)),\n",
        "    keras.layers.Dense(32, activation=activ),\n",
        "    keras.layers.Dense(32, activation=activ),\n",
        "    keras.layers.Dense(18, activation=activ),\n",
        "    keras.layers.Dense(9, activation=activ)\n",
        "])"
      ],
      "metadata": {
        "id": "laEveKrHI9z6"
      },
      "execution_count": null,
      "outputs": []
    },
    {
      "cell_type": "code",
      "source": [
        "model.compile(optimizer='adam',\n",
        "              loss='binary_focal_crossentropy',\n",
        "              metrics=['accuracy'])"
      ],
      "metadata": {
        "id": "vHHHUYOFJqxZ"
      },
      "execution_count": null,
      "outputs": []
    },
    {
      "cell_type": "code",
      "source": [
        "model.summary()"
      ],
      "metadata": {
        "colab": {
          "base_uri": "https://localhost:8080/"
        },
        "id": "7cQJ7LWElcxs",
        "outputId": "d6cdf078-e2fa-4e40-9713-627d97c05f23"
      },
      "execution_count": null,
      "outputs": [
        {
          "output_type": "stream",
          "name": "stdout",
          "text": [
            "Model: \"sequential_18\"\n",
            "_________________________________________________________________\n",
            " Layer (type)                Output Shape              Param #   \n",
            "=================================================================\n",
            " flatten_18 (Flatten)        (None, 16)                0         \n",
            "                                                                 \n",
            " dense_73 (Dense)            (None, 32)                544       \n",
            "                                                                 \n",
            " dense_74 (Dense)            (None, 32)                1056      \n",
            "                                                                 \n",
            " dense_75 (Dense)            (None, 18)                594       \n",
            "                                                                 \n",
            " dense_76 (Dense)            (None, 9)                 171       \n",
            "                                                                 \n",
            "=================================================================\n",
            "Total params: 2,365\n",
            "Trainable params: 2,365\n",
            "Non-trainable params: 0\n",
            "_________________________________________________________________\n"
          ]
        }
      ]
    },
    {
      "cell_type": "markdown",
      "source": [
        "Entrenando el sistema"
      ],
      "metadata": {
        "id": "vPc0lA0JKJDJ"
      }
    },
    {
      "cell_type": "code",
      "source": [
        "model.fit(A,S,epochs=15)"
      ],
      "metadata": {
        "colab": {
          "base_uri": "https://localhost:8080/"
        },
        "id": "I71NgyPiKMnZ",
        "outputId": "1d979a32-8204-4f42-c1ef-a76787e2911e"
      },
      "execution_count": null,
      "outputs": [
        {
          "output_type": "stream",
          "name": "stdout",
          "text": [
            "Epoch 1/15\n",
            "938/938 [==============================] - 3s 3ms/step - loss: 0.3343 - accuracy: 0.1463\n",
            "Epoch 2/15\n",
            "938/938 [==============================] - 2s 2ms/step - loss: 0.1704 - accuracy: 0.2284\n",
            "Epoch 3/15\n",
            "938/938 [==============================] - 2s 2ms/step - loss: 0.1632 - accuracy: 0.3051\n",
            "Epoch 4/15\n",
            "938/938 [==============================] - 2s 2ms/step - loss: 0.1576 - accuracy: 0.3509\n",
            "Epoch 5/15\n",
            "938/938 [==============================] - 2s 2ms/step - loss: 0.1483 - accuracy: 0.3685\n",
            "Epoch 6/15\n",
            "938/938 [==============================] - 2s 2ms/step - loss: 0.1355 - accuracy: 0.3560\n",
            "Epoch 7/15\n",
            "938/938 [==============================] - 2s 3ms/step - loss: 0.1302 - accuracy: 0.4336\n",
            "Epoch 8/15\n",
            "938/938 [==============================] - 2s 3ms/step - loss: 0.1289 - accuracy: 0.4698\n",
            "Epoch 9/15\n",
            "938/938 [==============================] - 2s 2ms/step - loss: 0.1243 - accuracy: 0.4867\n",
            "Epoch 10/15\n",
            "938/938 [==============================] - 2s 2ms/step - loss: 0.1206 - accuracy: 0.4979\n",
            "Epoch 11/15\n",
            "938/938 [==============================] - 2s 2ms/step - loss: 0.1316 - accuracy: 0.4680\n",
            "Epoch 12/15\n",
            "938/938 [==============================] - 2s 2ms/step - loss: 0.1183 - accuracy: 0.4457\n",
            "Epoch 13/15\n",
            "938/938 [==============================] - 2s 3ms/step - loss: 0.1102 - accuracy: 0.4544\n",
            "Epoch 14/15\n",
            "938/938 [==============================] - 2s 2ms/step - loss: 0.1022 - accuracy: 0.4196\n",
            "Epoch 15/15\n",
            "938/938 [==============================] - 2s 2ms/step - loss: 0.0991 - accuracy: 0.3960\n"
          ]
        },
        {
          "output_type": "execute_result",
          "data": {
            "text/plain": [
              "<keras.callbacks.History at 0x7ff1ec83ce90>"
            ]
          },
          "metadata": {},
          "execution_count": 105
        }
      ]
    },
    {
      "cell_type": "markdown",
      "source": [
        "prediccion"
      ],
      "metadata": {
        "id": "iEY16GxLPWUP"
      }
    },
    {
      "cell_type": "code",
      "source": [
        "tA = []\n",
        "tS = []\n",
        "\n",
        "for i in range(10):\n",
        "  x = random.randint(0, 200)\n",
        "  y = random.randint(0, 200)\n",
        "  c = x+y\n",
        "  x = [int(i) for i in str(bin(x))[2:]]\n",
        "  x = [0 for i in range(8-len(x))]+x\n",
        "  y = [int(i) for i in str(bin(y))[2:]]\n",
        "  y = [0 for i in range(8-len(y))]+y\n",
        "\n",
        "  c = [int(i) for i in str(bin(c))[2:]]\n",
        "  c = [0 for i in range(9-len(c))]+c\n",
        "  tA.append([x,y])\n",
        "  tS.append(c)\n",
        "tA = np.array(tA)\n",
        "tS = np.array(tS)"
      ],
      "metadata": {
        "id": "hju7FiZSPmT6"
      },
      "execution_count": null,
      "outputs": []
    },
    {
      "cell_type": "code",
      "source": [
        "for i in range(10):\n",
        "  print(\"test entrada: \",tA[i])\n",
        "  print(\"test salida correcta: \",tS[i])\n",
        "  predictions = model.predict(tA)\n",
        "  nP = []\n",
        "  print(predictions[i])\n",
        "  for a in predictions[i]:\n",
        "    if(a>0.5):\n",
        "      nP.append(1)\n",
        "    else:\n",
        "      nP.append(0)\n",
        "  print(\"salida ia: \",nP)\n",
        "  print(\"----------------\")\n"
      ],
      "metadata": {
        "colab": {
          "base_uri": "https://localhost:8080/"
        },
        "id": "Wz3U96prPTwk",
        "outputId": "cbd7d2b0-52d3-465c-c911-ac1c6670a29e"
      },
      "execution_count": null,
      "outputs": [
        {
          "output_type": "stream",
          "name": "stdout",
          "text": [
            "test entrada:  [[1 1 0 0 0 0 1 0]\n",
            " [0 1 0 1 1 0 0 1]]\n",
            "test salida correcta:  [1 0 0 0 1 1 0 1 1]\n",
            "[0.9008269  0.44780913 0.5117555  0.4885047  0.50656635 0.4999682\n",
            " 0.50290763 0.9546747  1.5512707 ]\n",
            "salida ia:  [1, 0, 1, 0, 1, 0, 1, 1, 1]\n",
            "----------------\n",
            "test entrada:  [[0 1 0 0 1 0 1 1]\n",
            " [1 0 1 1 1 0 1 1]]\n",
            "test salida correcta:  [1 0 0 0 0 0 1 1 0]\n",
            "[ 0.55308735  0.5385452   0.55841035  0.54574627  0.48606825  0.48504886\n",
            "  0.4767653   0.9274628  -0.12227976]\n",
            "salida ia:  [1, 1, 1, 1, 0, 0, 0, 1, 0]\n",
            "----------------\n",
            "test entrada:  [[0 1 1 1 1 0 1 0]\n",
            " [0 1 1 1 1 0 0 1]]\n",
            "test salida correcta:  [0 1 1 1 1 0 0 1 1]\n",
            "[0.27734876 0.5359996  0.34031045 0.523612   0.51431084 0.49608436\n",
            " 0.508018   1.0089241  1.3626546 ]\n",
            "salida ia:  [0, 1, 0, 1, 1, 0, 1, 1, 1]\n",
            "----------------\n",
            "test entrada:  [[0 0 1 1 0 0 1 1]\n",
            " [1 0 1 1 1 1 0 0]]\n",
            "test salida correcta:  [0 1 1 1 0 1 1 1 1]\n",
            "[0.04431286 0.6159042  0.57535756 0.54382765 0.51045996 0.4738188\n",
            " 0.50538987 1.063493   1.268895  ]\n",
            "salida ia:  [0, 1, 1, 1, 1, 0, 1, 1, 1]\n",
            "----------------\n",
            "test entrada:  [[1 0 1 0 1 0 1 1]\n",
            " [0 1 0 1 0 0 0 1]]\n",
            "test salida correcta:  [0 1 1 1 1 1 1 0 0]\n",
            "[ 0.39628845  0.61192083  0.5628015   0.5601622   0.50449014  0.49963355\n",
            "  0.5179732   0.07442529 -0.16636175]\n",
            "salida ia:  [0, 1, 1, 1, 1, 0, 1, 0, 0]\n",
            "----------------\n",
            "test entrada:  [[0 0 0 1 1 1 0 1]\n",
            " [0 1 1 1 0 1 0 0]]\n",
            "test salida correcta:  [0 1 0 0 1 0 0 0 1]\n",
            "[-0.85007685  0.6833231   0.46744782  0.523024    0.47413772  0.5180178\n",
            "  0.4752524  -0.04944104  1.1431079 ]\n",
            "salida ia:  [0, 1, 0, 1, 0, 1, 0, 0, 1]\n",
            "----------------\n",
            "test entrada:  [[0 0 1 1 1 1 1 0]\n",
            " [0 1 0 1 1 0 1 0]]\n",
            "test salida correcta:  [0 1 0 0 1 1 0 0 0]\n",
            "[-0.7761117   0.7970613   0.42874396  0.51008093  0.54169166  0.46413153\n",
            "  0.53752023 -0.38794708 -0.13901472]\n",
            "salida ia:  [0, 1, 0, 1, 1, 0, 1, 0, 0]\n",
            "----------------\n",
            "test entrada:  [[1 0 1 0 1 0 0 0]\n",
            " [0 0 1 0 0 0 0 1]]\n",
            "test salida correcta:  [0 1 1 0 0 1 0 0 1]\n",
            "[-0.38412517  0.82667196  0.5321439   0.564518    0.47759497  0.4949326\n",
            "  0.49203515  0.07146445  1.3030429 ]\n",
            "salida ia:  [0, 1, 1, 1, 0, 0, 0, 0, 1]\n",
            "----------------\n",
            "test entrada:  [[0 0 0 0 1 1 0 1]\n",
            " [0 1 0 1 0 1 1 0]]\n",
            "test salida correcta:  [0 0 1 1 0 0 0 1 1]\n",
            "[-0.95403117 -0.1888113   0.6285086   0.5643316   0.48957974  0.4905831\n",
            "  0.49569154  0.91181225  1.0902998 ]\n",
            "salida ia:  [0, 0, 1, 1, 0, 0, 0, 1, 1]\n",
            "----------------\n",
            "test entrada:  [[0 0 1 1 1 1 0 1]\n",
            " [0 1 1 0 1 0 1 0]]\n",
            "test salida correcta:  [0 1 0 1 0 0 1 1 1]\n",
            "[-0.7805754   0.9068311   0.39550167  0.5301736   0.52217424  0.45487934\n",
            "  0.5060898   0.86900455  1.3059307 ]\n",
            "salida ia:  [0, 1, 0, 1, 1, 0, 1, 1, 1]\n",
            "----------------\n"
          ]
        }
      ]
    },
    {
      "cell_type": "code",
      "source": [],
      "metadata": {
        "id": "xR9oeoBeSgas"
      },
      "execution_count": null,
      "outputs": []
    }
  ]
}